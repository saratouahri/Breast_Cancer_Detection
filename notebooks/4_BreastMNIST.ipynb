{
 "cells": [
  {
   "cell_type": "code",
   "execution_count": 1,
   "id": "8a307a03",
   "metadata": {},
   "outputs": [],
   "source": [
    "import medmnist\n",
    "from medmnist import INFO\n",
    "from medmnist.dataset import BreastMNIST\n",
    "from torchvision import transforms\n"
   ]
  },
  {
   "cell_type": "code",
   "execution_count": 2,
   "id": "f9e82fbd",
   "metadata": {},
   "outputs": [],
   "source": [
    "# Charger les infos sur le dataset\n",
    "data_flag = 'breastmnist'\n",
    "download = True\n",
    "info = INFO[data_flag]\n",
    "DataClass = getattr(medmnist.dataset, info['python_class'])\n",
    "data_transform = transforms.Compose([\n",
    "    transforms.ToTensor(),\n",
    "    transforms.Lambda(lambda x: x.repeat(3, 1, 1))  # convertit (1, 28, 28) → (3, 28, 28)\n",
    "])\n",
    "\n",
    "# Charger le dataset\n",
    "train_dataset = DataClass(split='train', transform=data_transform, download=download)\n",
    "test_dataset  = DataClass(split='test', transform=data_transform, download=download)\n",
    "val_dataset   = DataClass(split='val', transform=data_transform, download=download)\n"
   ]
  },
  {
   "cell_type": "code",
   "execution_count": 3,
   "id": "e29d74b5",
   "metadata": {},
   "outputs": [
    {
     "data": {
      "image/png": "[encoded data removed]",
      "text/plain": [
       "<Figure size 800x500 with 6 Axes>"
      ]
     },
     "metadata": {},
     "output_type": "display_data"
    }
   ],
   "source": [
    "import matplotlib.pyplot as plt\n",
    "\n",
    "fig, axes = plt.subplots(2, 3, figsize=(8, 5))\n",
    "for i in range(6):\n",
    "    img, label = train_dataset[i]\n",
    "    img = img.permute(1, 2, 0)  # (C, H, W) → (H, W, C)\n",
    "\n",
    "    axes[i//3, i%3].imshow(img, cmap='gray')\n",
    "    axes[i//3, i%3].set_title(f\"Label: {label.item()}\")\n",
    "    axes[i//3, i%3].axis('off')\n",
    "\n",
    "plt.tight_layout()\n",
    "plt.show()\n",
    "\n"
   ]
  },
  {
   "cell_type": "code",
   "execution_count": 4,
   "id": "51fcfac3",
   "metadata": {},
   "outputs": [],
   "source": [
    "from torch.utils.data import DataLoader\n",
    "\n",
    "train_loader = DataLoader(train_dataset, batch_size=64, shuffle=True)\n",
    "val_loader   = DataLoader(val_dataset, batch_size=64, shuffle=False)\n",
    "test_loader  = DataLoader(test_dataset, batch_size=64, shuffle=False)\n"
   ]
  },
  {
   "cell_type": "code",
   "execution_count": 5,
   "id": "5583adb9",
   "metadata": {},
   "outputs": [],
   "source": [
    "import torch\n",
    "import torch.nn as nn\n",
    "import torchvision.models as models\n"
   ]
  },
  {
   "cell_type": "code",
   "execution_count": 6,
   "id": "ce77be29",
   "metadata": {},
   "outputs": [
    {
     "name": "stderr",
     "output_type": "stream",
     "text": [
      "c:\\Users\\sarah\\AppData\\Local\\Programs\\Python\\Python312\\Lib\\site-packages\\torchvision\\models\\_utils.py:208: UserWarning: The parameter 'pretrained' is deprecated since 0.13 and may be removed in the future, please use 'weights' instead.\n",
      "  warnings.warn(\n",
      "c:\\Users\\sarah\\AppData\\Local\\Programs\\Python\\Python312\\Lib\\site-packages\\torchvision\\models\\_utils.py:223: UserWarning: Arguments other than a weight enum or `None` for 'weights' are deprecated since 0.13 and may be removed in the future. The current behavior is equivalent to passing `weights=ResNet18_Weights.IMAGENET1K_V1`. You can also use `weights=ResNet18_Weights.DEFAULT` to get the most up-to-date weights.\n",
      "  warnings.warn(msg)\n"
     ]
    }
   ],
   "source": [
    "# Charger le modèle ResNet18 pré-entraîné\n",
    "resnet18 = models.resnet18(pretrained=True)\n",
    "\n",
    "# On remplace la dernière couche (fc) par une couche pour 1 sortie (sigmoid pour binaire)\n",
    "num_ftrs = resnet18.fc.in_features\n",
    "resnet18.fc = nn.Sequential(\n",
    "    nn.Linear(num_ftrs, 1),\n",
    "    nn.Sigmoid()\n",
    ")\n"
   ]
  },
  {
   "cell_type": "code",
   "execution_count": 7,
   "id": "c768e8c6",
   "metadata": {},
   "outputs": [],
   "source": [
    "for param in resnet18.parameters():\n",
    "    param.requires_grad = False\n",
    "\n",
    "# Débloquer la dernière couche (fc)\n",
    "for param in resnet18.fc.parameters():\n",
    "    param.requires_grad = True\n"
   ]
  },
  {
   "cell_type": "code",
   "execution_count": null,
   "id": "a9c63d39",
   "metadata": {},
   "outputs": [
    {
     "ename": "NameError",
     "evalue": "name 'model' is not defined",
     "output_type": "error",
     "traceback": [
      "\u001b[31m---------------------------------------------------------------------------\u001b[39m",
      "\u001b[31mNameError\u001b[39m                                 Traceback (most recent call last)",
      "\u001b[36mCell\u001b[39m\u001b[36m \u001b[39m\u001b[32mIn[18]\u001b[39m\u001b[32m, line 3\u001b[39m\n\u001b[32m      1\u001b[39m device = torch.device(\u001b[33m\"\u001b[39m\u001b[33mcuda\u001b[39m\u001b[33m\"\u001b[39m \u001b[38;5;28;01mif\u001b[39;00m torch.cuda.is_available() \u001b[38;5;28;01melse\u001b[39;00m \u001b[33m\"\u001b[39m\u001b[33mcpu\u001b[39m\u001b[33m\"\u001b[39m)\n\u001b[32m      2\u001b[39m resnet18 = resnet18.to(device)\n\u001b[32m----> \u001b[39m\u001b[32m3\u001b[39m model = \u001b[43mmodel\u001b[49m.to(device)\n",
      "\u001b[31mNameError\u001b[39m: name 'model' is not defined"
     ]
    }
   ],
   "source": [
    "device = torch.device(\"cuda\" if torch.cuda.is_available() else \"cpu\")\n",
    "resnet18 = resnet18.to(device)\n"
   ]
  },
  {
   "cell_type": "code",
   "execution_count": 9,
   "id": "08ae829a",
   "metadata": {},
   "outputs": [],
   "source": [
    "import torch.optim as optim\n",
    "\n",
    "criterion = nn.BCELoss()  # car sortie avec Sigmoid et binaire\n",
    "optimizer = optim.Adam(resnet18.parameters(), lr=0.001)\n"
   ]
  },
  {
   "cell_type": "code",
   "execution_count": 14,
   "id": "b61407ee",
   "metadata": {},
   "outputs": [],
   "source": [
    "from tqdm import tqdm\n",
    "def train_model(model, criterion, optimizer, train_loader, val_loader, device, epochs=5):\n",
    "    for epoch in range(epochs):\n",
    "        model.train()\n",
    "        train_loss = 0.0\n",
    "\n",
    "        for images, targets in tqdm(train_loader, desc=f\"Epoch {epoch+1}/{epochs} - Train\"):\n",
    "            images = images.to(device)\n",
    "            targets = targets.to(device).float()\n",
    "            targets = targets.view(-1, 1)  # reshape: (batch_size,) → (batch_size, 1)\n",
    "\n",
    "            optimizer.zero_grad()\n",
    "            outputs = model(images)\n",
    "\n",
    "            loss = criterion(outputs, targets)\n",
    "            loss.backward()\n",
    "            optimizer.step()\n",
    "\n",
    "            train_loss += loss.item() * images.size(0)\n",
    "\n",
    "        # Validation\n",
    "        model.eval()\n",
    "        val_loss = 0.0\n",
    "        correct = 0\n",
    "        total = 0\n",
    "\n",
    "        with torch.no_grad():\n",
    "            for images, targets in tqdm(val_loader, desc=f\"Epoch {epoch+1}/{epochs} - Val\"):\n",
    "                images = images.to(device)\n",
    "                targets = targets.to(device).float()\n",
    "                targets = targets.view(-1, 1)  # reshape again\n",
    "\n",
    "                outputs = model(images)\n",
    "                loss = criterion(outputs, targets)\n",
    "\n",
    "                val_loss += loss.item() * images.size(0)\n",
    "\n",
    "                preds = (outputs > 0.5).float()\n",
    "                correct += (preds == targets).sum().item()\n",
    "                total += targets.size(0)\n",
    "\n",
    "        train_loss /= len(train_loader.dataset)\n",
    "        val_loss /= len(val_loader.dataset)\n",
    "        acc = correct / total\n",
    "\n",
    "        print(f\"Epoch {epoch+1} | Train Loss: {train_loss:.4f} | Val Loss: {val_loss:.4f} | Val Acc: {acc:.4f}\")\n"
   ]
  },
  {
   "cell_type": "code",
   "execution_count": 15,
   "id": "e2daefd0",
   "metadata": {},
   "outputs": [
    {
     "name": "stderr",
     "output_type": "stream",
     "text": [
      "Epoch 1/5 - Train: 100%|██████████| 9/9 [00:04<00:00,  2.05it/s]\n",
      "Epoch 1/5 - Val: 100%|██████████| 2/2 [00:00<00:00,  3.67it/s]\n"
     ]
    },
    {
     "name": "stdout",
     "output_type": "stream",
     "text": [
      "Epoch 1 | Train Loss: 0.6183 | Val Loss: 0.6191 | Val Acc: 0.7308\n"
     ]
    },
    {
     "name": "stderr",
     "output_type": "stream",
     "text": [
      "Epoch 2/5 - Train: 100%|██████████| 9/9 [00:03<00:00,  2.84it/s]\n",
      "Epoch 2/5 - Val: 100%|██████████| 2/2 [00:00<00:00,  3.71it/s]\n"
     ]
    },
    {
     "name": "stdout",
     "output_type": "stream",
     "text": [
      "Epoch 2 | Train Loss: 0.5982 | Val Loss: 0.6037 | Val Acc: 0.7308\n"
     ]
    },
    {
     "name": "stderr",
     "output_type": "stream",
     "text": [
      "Epoch 3/5 - Train: 100%|██████████| 9/9 [00:03<00:00,  2.85it/s]\n",
      "Epoch 3/5 - Val: 100%|██████████| 2/2 [00:00<00:00,  4.72it/s]\n"
     ]
    },
    {
     "name": "stdout",
     "output_type": "stream",
     "text": [
      "Epoch 3 | Train Loss: 0.5427 | Val Loss: 0.5850 | Val Acc: 0.7308\n"
     ]
    },
    {
     "name": "stderr",
     "output_type": "stream",
     "text": [
      "Epoch 4/5 - Train: 100%|██████████| 9/9 [00:03<00:00,  2.96it/s]\n",
      "Epoch 4/5 - Val: 100%|██████████| 2/2 [00:00<00:00,  3.12it/s]\n"
     ]
    },
    {
     "name": "stdout",
     "output_type": "stream",
     "text": [
      "Epoch 4 | Train Loss: 0.5306 | Val Loss: 0.5855 | Val Acc: 0.7308\n"
     ]
    },
    {
     "name": "stderr",
     "output_type": "stream",
     "text": [
      "Epoch 5/5 - Train: 100%|██████████| 9/9 [00:03<00:00,  2.77it/s]\n",
      "Epoch 5/5 - Val: 100%|██████████| 2/2 [00:00<00:00,  3.03it/s]"
     ]
    },
    {
     "name": "stdout",
     "output_type": "stream",
     "text": [
      "Epoch 5 | Train Loss: 0.5211 | Val Loss: 0.5421 | Val Acc: 0.7308\n"
     ]
    },
    {
     "name": "stderr",
     "output_type": "stream",
     "text": [
      "\n"
     ]
    }
   ],
   "source": [
    "train_model(\n",
    "    model=resnet18,\n",
    "    criterion=criterion,\n",
    "    optimizer=optimizer,\n",
    "    train_loader=train_loader,\n",
    "    val_loader=val_loader,\n",
    "    device=device,\n",
    "    epochs=5\n",
    ")\n",
    "\n"
   ]
  },
  {
   "cell_type": "code",
   "execution_count": 19,
   "id": "4454187b",
   "metadata": {},
   "outputs": [
    {
     "name": "stdout",
     "output_type": "stream",
     "text": [
      "sys.path[0] = c:\\Users\\sarah\\Documents\\projects\\python\\breast_cancer_detection\n",
      "Modèle multimodal sauvé dans models/ ResNet18_model.pt\n"
     ]
    }
   ],
   "source": [
    "import sys, os\n",
    "project_root = os.path.abspath(os.path.join(os.getcwd(), \"..\"))\n",
    "sys.path.insert(0, project_root)\n",
    "print(\"sys.path[0] =\", sys.path[0])\n",
    "# Sauvegarde\n",
    "torch.save(resnet18.state_dict(), 'C:/Users/sarah/Documents/projects/python/breast_cancer_detection/models/ResNet18_model_model.pt')\n",
    "print(\"Modèle multimodal sauvé dans models/ ResNet18_model.pt\")"
   ]
  },
  {
   "cell_type": "code",
   "execution_count": 35,
   "id": "6f19f39c",
   "metadata": {},
   "outputs": [
    {
     "name": "stdout",
     "output_type": "stream",
     "text": [
      "Saved test_images/img_0_lbl1.png\n",
      "Saved test_images/img_1_lbl1.png\n",
      "Saved test_images/img_2_lbl1.png\n",
      "Saved test_images/img_3_lbl1.png\n",
      "Saved test_images/img_4_lbl0.png\n",
      "Saved test_images/img_5_lbl1.png\n",
      "Saved test_images/img_6_lbl1.png\n",
      "Saved test_images/img_7_lbl1.png\n",
      "Saved test_images/img_8_lbl0.png\n",
      "Saved test_images/img_9_lbl1.png\n"
     ]
    },
    {
     "name": "stderr",
     "output_type": "stream",
     "text": [
      "C:\\Users\\sarah\\AppData\\Local\\Temp\\ipykernel_18516\\1736721687.py:12: DeprecationWarning: Conversion of an array with ndim > 0 to a scalar is deprecated, and will error in future. Ensure you extract a single element from your array before performing this operation. (Deprecated NumPy 1.25.)\n",
      "  path = f'test_images/img_{i}_lbl{int(label)}.png'\n"
     ]
    }
   ],
   "source": [
    "import os\n",
    "import matplotlib.pyplot as plt\n",
    "\n",
    "# Crée un dossier pour stocker les images de test\n",
    "os.makedirs('test_images', exist_ok=True)\n",
    "\n",
    "# Sauvegarde les 10 premières images\n",
    "for i in range(10):\n",
    "    img, label = train_dataset[i]            # train_dataset = BreastMNIST(...)\n",
    "    # img : Tensor (3,28,28) après transform(), on convertit en (H,W) pour grayscale\n",
    "    gray = img[0].cpu().numpy()              # choix du premier canal\n",
    "    path = f'test_images/img_{i}_lbl{int(label)}.png'\n",
    "    plt.imsave(path, gray, cmap='gray')\n",
    "    print(f\"Saved {path}\")\n"
   ]
  }
 ],
 "metadata": {
  "kernelspec": {
   "display_name": "Python 3",
   "language": "python",
   "name": "python3"
  },
  "language_info": {
   "codemirror_mode": {
    "name": "ipython",
    "version": 3
   },
   "file_extension": ".py",
   "mimetype": "text/x-python",
   "name": "python",
   "nbconvert_exporter": "python",
   "pygments_lexer": "ipython3",
   "version": "3.12.10"
  }
 },
 "nbformat": 4,
 "nbformat_minor": 5
}
