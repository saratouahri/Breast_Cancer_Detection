{
 "cells": [
  {
   "cell_type": "code",
   "execution_count": 5,
   "id": "ce0b416f-7af0-4626-af35-011804739f43",
   "metadata": {},
   "outputs": [],
   "source": [
    "# Chargement des données d'imagerie (BreastMNIST)\n",
    "from medmnist.dataset import BreastMNIST\n",
    "from medmnist import INFO\n",
    "from torchvision import transforms\n",
    "import torch\n",
    "from torch.utils.data import Dataset, DataLoader\n",
    "from sklearn.datasets import load_breast_cancer\n",
    "import numpy as np\n",
    "\n",
    "# Charger BreastMNIST (images 28x28 grayscale)\n",
    "data_flag = 'breastmnist'\n",
    "info = INFO[data_flag]\n",
    "DataClass = getattr(__import__('medmnist.dataset', fromlist=[info['python_class']]), info['python_class'])\n",
    "\n",
    "transform = transforms.Compose([\n",
    "    transforms.Resize((224, 224)),\n",
    "    transforms.ToTensor(),\n",
    "    transforms.Lambda(lambda x: x.repeat(3, 1, 1))\n",
    "])\n",
    "\n",
    "image_dataset = DataClass(split='train', transform=transform, download=True)\n",
    "\n",
    "\n",
    "# Chargement des données tabulaires (Breast Cancer sklearn)\n",
    "from sklearn.preprocessing import StandardScaler\n",
    "\n",
    "data = load_breast_cancer()\n",
    "X_tab = data['data'].astype(np.float32)\n",
    "y_tab = data['target'].astype(np.float32)\n",
    "\n",
    "# Normalisation\n",
    "scaler = StandardScaler()\n",
    "X_tab = scaler.fit_transform(X_tab).astype(np.float32)\n",
    "\n",
    "\n",
    "# Dataset multimodal simulé\n",
    "class SimulatedMultimodalDataset(Dataset):\n",
    "    def __init__(self, image_dataset, tabular_features, labels):\n",
    "        self.image_dataset = image_dataset\n",
    "        self.tabular_features = tabular_features\n",
    "        self.labels = labels\n",
    "\n",
    "    def __len__(self):\n",
    "        return min(len(self.image_dataset), len(self.tabular_features))\n",
    "\n",
    "    def __getitem__(self, idx):\n",
    "        image, _ = self.image_dataset[idx]\n",
    "        tabular = torch.tensor(self.tabular_features[idx])\n",
    "        label = torch.tensor([self.labels[idx]])\n",
    "        return image, tabular, label\n",
    "\n",
    "\n",
    "#  Création du Dataset et DataLoader\n",
    "from torch.utils.data import random_split\n",
    "\n",
    "# S'assurer qu'on a la même taille\n",
    "N = min(len(image_dataset), len(X_tab))\n",
    "multimodal_dataset = SimulatedMultimodalDataset(\n",
    "    image_dataset=image_dataset,\n",
    "    tabular_features=X_tab[:N],\n",
    "    labels=y_tab[:N]\n",
    ")\n",
    "\n",
    "# Split 80% train / 20% val\n",
    "train_size = int(0.8 * N)\n",
    "val_size = N - train_size\n",
    "train_ds, val_ds = random_split(multimodal_dataset, [train_size, val_size])\n",
    "\n",
    "train_loader = DataLoader(train_ds, batch_size=64, shuffle=True)\n",
    "val_loader = DataLoader(val_ds, batch_size=64)\n",
    "\n",
    "\n",
    "\n"
   ]
  },
  {
   "cell_type": "code",
   "execution_count": 7,
   "id": "034766d4",
   "metadata": {},
   "outputs": [
    {
     "name": "stdout",
     "output_type": "stream",
     "text": [
      "sys.path[0] = c:\\Users\\sarah\\Documents\\projects\\python\\breast_cancer_detection\n"
     ]
    }
   ],
   "source": [
    "import sys, os\n",
    "project_root = os.path.abspath(os.path.join(os.getcwd(), \"..\"))\n",
    "sys.path.insert(0, project_root)\n",
    "print(\"sys.path[0] =\", sys.path[0])"
   ]
  },
  {
   "cell_type": "code",
   "execution_count": 8,
   "id": "968abfe2",
   "metadata": {},
   "outputs": [
    {
     "name": "stderr",
     "output_type": "stream",
     "text": [
      "c:\\Users\\sarah\\AppData\\Local\\Programs\\Python\\Python312\\Lib\\site-packages\\torchvision\\models\\_utils.py:208: UserWarning: The parameter 'pretrained' is deprecated since 0.13 and may be removed in the future, please use 'weights' instead.\n",
      "  warnings.warn(\n",
      "c:\\Users\\sarah\\AppData\\Local\\Programs\\Python\\Python312\\Lib\\site-packages\\torchvision\\models\\_utils.py:223: UserWarning: Arguments other than a weight enum or `None` for 'weights' are deprecated since 0.13 and may be removed in the future. The current behavior is equivalent to passing `weights=ResNet18_Weights.IMAGENET1K_V1`. You can also use `weights=ResNet18_Weights.DEFAULT` to get the most up-to-date weights.\n",
      "  warnings.warn(msg)\n",
      "Epoch 1/5 - Train: 100%|██████████| 7/7 [01:15<00:00, 10.81s/it]\n",
      "Epoch 1/5 - Val: 100%|██████████| 2/2 [00:05<00:00,  2.95s/it]\n"
     ]
    },
    {
     "name": "stdout",
     "output_type": "stream",
     "text": [
      "Epoch 1 | Train Loss: 0.7440 | Val Loss: 0.6867 | Val Acc: 0.6909\n"
     ]
    },
    {
     "name": "stderr",
     "output_type": "stream",
     "text": [
      "Epoch 2/5 - Train: 100%|██████████| 7/7 [01:05<00:00,  9.39s/it]\n",
      "Epoch 2/5 - Val: 100%|██████████| 2/2 [00:07<00:00,  3.50s/it]\n"
     ]
    },
    {
     "name": "stdout",
     "output_type": "stream",
     "text": [
      "Epoch 2 | Train Loss: 0.6578 | Val Loss: 0.6425 | Val Acc: 0.5818\n"
     ]
    },
    {
     "name": "stderr",
     "output_type": "stream",
     "text": [
      "Epoch 3/5 - Train: 100%|██████████| 7/7 [01:15<00:00, 10.73s/it]\n",
      "Epoch 3/5 - Val: 100%|██████████| 2/2 [00:06<00:00,  3.47s/it]\n"
     ]
    },
    {
     "name": "stdout",
     "output_type": "stream",
     "text": [
      "Epoch 3 | Train Loss: 0.5420 | Val Loss: 0.6144 | Val Acc: 0.6455\n"
     ]
    },
    {
     "name": "stderr",
     "output_type": "stream",
     "text": [
      "Epoch 4/5 - Train: 100%|██████████| 7/7 [01:20<00:00, 11.52s/it]\n",
      "Epoch 4/5 - Val: 100%|██████████| 2/2 [00:07<00:00,  3.56s/it]\n"
     ]
    },
    {
     "name": "stdout",
     "output_type": "stream",
     "text": [
      "Epoch 4 | Train Loss: 0.4317 | Val Loss: 0.7379 | Val Acc: 0.5909\n"
     ]
    },
    {
     "name": "stderr",
     "output_type": "stream",
     "text": [
      "Epoch 5/5 - Train: 100%|██████████| 7/7 [01:12<00:00, 10.31s/it]\n",
      "Epoch 5/5 - Val: 100%|██████████| 2/2 [00:06<00:00,  3.08s/it]"
     ]
    },
    {
     "name": "stdout",
     "output_type": "stream",
     "text": [
      "Epoch 5 | Train Loss: 0.3399 | Val Loss: 0.7777 | Val Acc: 0.7273\n"
     ]
    },
    {
     "name": "stderr",
     "output_type": "stream",
     "text": [
      "\n"
     ]
    }
   ],
   "source": [
    "# Boucle d'entraînement multimodale\n",
    "from src.multimodal_model import MultimodalNet\n",
    "import torch.nn as nn\n",
    "import torch.optim as optim\n",
    "from tqdm import tqdm\n",
    "\n",
    "model = MultimodalNet(tabular_input_dim=X_tab.shape[1])\n",
    "device = torch.device(\"cuda\" if torch.cuda.is_available() else \"cpu\")\n",
    "model = model.to(device)\n",
    "\n",
    "criterion = nn.BCELoss()\n",
    "optimizer = optim.Adam(model.parameters(), lr=0.001)\n",
    "\n",
    "def train_model(model, criterion, optimizer, train_loader, val_loader, device, epochs=5):\n",
    "    for epoch in range(epochs):\n",
    "        model.train()\n",
    "        train_loss = 0.0\n",
    "\n",
    "        for images, tabulars, labels in tqdm(train_loader, desc=f\"Epoch {epoch+1}/{epochs} - Train\"):\n",
    "            images = images.to(device)\n",
    "            tabulars = tabulars.to(device).float()\n",
    "            labels = labels.to(device).float().view(-1, 1)\n",
    "\n",
    "            optimizer.zero_grad()\n",
    "            outputs = model(images, tabulars)\n",
    "            loss = criterion(outputs, labels)\n",
    "            loss.backward()\n",
    "            optimizer.step()\n",
    "\n",
    "            train_loss += loss.item() * images.size(0)\n",
    "\n",
    "        model.eval()\n",
    "        val_loss = 0.0\n",
    "        correct = 0\n",
    "        total = 0\n",
    "        with torch.no_grad():\n",
    "            for images, tabulars, labels in tqdm(val_loader, desc=f\"Epoch {epoch+1}/{epochs} - Val\"):\n",
    "                images = images.to(device)\n",
    "                tabulars = tabulars.to(device).float()\n",
    "                labels = labels.to(device).float().view(-1, 1)\n",
    "\n",
    "                outputs = model(images, tabulars)\n",
    "                loss = criterion(outputs, labels)\n",
    "                val_loss += loss.item() * images.size(0)\n",
    "\n",
    "                preds = (outputs > 0.5).float()\n",
    "                correct += (preds == labels).sum().item()\n",
    "                total += labels.size(0)\n",
    "\n",
    "        print(f\"Epoch {epoch+1} | Train Loss: {train_loss/len(train_loader.dataset):.4f} | Val Loss: {val_loss/len(val_loader.dataset):.4f} | Val Acc: {correct/total:.4f}\")\n",
    "\n",
    "# Lancement de l'entraînement\n",
    "train_model(model, criterion, optimizer, train_loader, val_loader, device, epochs=5)"
   ]
  },
  {
   "cell_type": "code",
   "execution_count": 9,
   "id": "c74c2283",
   "metadata": {},
   "outputs": [
    {
     "name": "stdout",
     "output_type": "stream",
     "text": [
      "Accuracy : 0.7273\n",
      "AUC-ROC  : 0.7466\n",
      "\n",
      "Classification Report :\n",
      "              precision    recall  f1-score   support\n",
      "\n",
      "         0.0     0.7105    0.5870    0.6429        46\n",
      "         1.0     0.7361    0.8281    0.7794        64\n",
      "\n",
      "    accuracy                         0.7273       110\n",
      "   macro avg     0.7233    0.7075    0.7111       110\n",
      "weighted avg     0.7254    0.7273    0.7223       110\n",
      "\n"
     ]
    },
    {
     "data": {
      "image/png": "[encoded data removed]",
      "text/plain": [
       "<Figure size 400x300 with 2 Axes>"
      ]
     },
     "metadata": {},
     "output_type": "display_data"
    }
   ],
   "source": [
    "# 🔢 Étape 1 : Évaluation sur le test set (ici val_loader)\n",
    "\n",
    "import numpy as np\n",
    "from sklearn.metrics import accuracy_score, roc_auc_score, classification_report, confusion_matrix\n",
    "import seaborn as sns\n",
    "import matplotlib.pyplot as plt\n",
    "\n",
    "# Passer le modèle en mode éval\n",
    "model.eval()\n",
    "\n",
    "y_true = []\n",
    "y_pred = []\n",
    "y_prob = []\n",
    "\n",
    "with torch.no_grad():\n",
    "    for images, tabulars, labels in val_loader:\n",
    "        images   = images.to(device)\n",
    "        tabulars = tabulars.to(device).float()\n",
    "        labels   = labels.to(device).float().view(-1,1)\n",
    "\n",
    "        outputs = model(images, tabulars)\n",
    "\n",
    "        # Collecte des ground-truth et prédictions\n",
    "        y_true.extend(labels.cpu().numpy().ravel())\n",
    "        y_prob.extend(outputs.cpu().numpy().ravel())\n",
    "        y_pred.extend((outputs > 0.5).float().cpu().numpy().ravel())\n",
    "\n",
    "# Conversion en array 1-D\n",
    "y_true = np.array(y_true)\n",
    "y_pred = np.array(y_pred)\n",
    "y_prob = np.array(y_prob)\n",
    "\n",
    "# 1) Accuracy\n",
    "acc = accuracy_score(y_true, y_pred)\n",
    "print(f\"Accuracy : {acc:.4f}\")\n",
    "\n",
    "# 2) AUC-ROC\n",
    "auc = roc_auc_score(y_true, y_prob)\n",
    "print(f\"AUC-ROC  : {auc:.4f}\")\n",
    "\n",
    "# 3) Classification report\n",
    "print(\"\\nClassification Report :\")\n",
    "print(classification_report(y_true, y_pred, digits=4))\n",
    "\n",
    "# 4) Matrice de confusion\n",
    "cm = confusion_matrix(y_true, y_pred)\n",
    "plt.figure(figsize=(4,3))\n",
    "sns.heatmap(cm, annot=True, fmt='d', cmap='Blues',\n",
    "            xticklabels=['Bénin','Malin'],\n",
    "            yticklabels=['Bénin','Malin'])\n",
    "plt.xlabel('Prédit')\n",
    "plt.ylabel('Réel')\n",
    "plt.title('Matrice de confusion')\n",
    "plt.show()\n"
   ]
  },
  {
   "cell_type": "code",
   "execution_count": 14,
   "id": "e25a747f",
   "metadata": {},
   "outputs": [
    {
     "name": "stdout",
     "output_type": "stream",
     "text": [
      "sys.path[0] = c:\\Users\\sarah\\Documents\\projects\\python\\breast_cancer_detection\n",
      "Modèle multimodal sauvé dans models/multimodal_model.pt\n"
     ]
    }
   ],
   "source": [
    "import sys, os\n",
    "project_root = os.path.abspath(os.path.join(os.getcwd(), \"..\"))\n",
    "sys.path.insert(0, project_root)\n",
    "print(\"sys.path[0] =\", sys.path[0])\n",
    "# Sauvegarde\n",
    "torch.save(model.state_dict(), 'C:/Users/sarah/Documents/projects/python/breast_cancer_detection/models/multimodal_model.pt')\n",
    "print(\"Modèle multimodal sauvé dans models/multimodal_model.pt\")\n"
   ]
  },
  {
   "cell_type": "code",
   "execution_count": null,
   "id": "9628f519",
   "metadata": {},
   "outputs": [],
   "source": []
  }
 ],
 "metadata": {
  "kernelspec": {
   "display_name": "Python 3",
   "language": "python",
   "name": "python3"
  },
  "language_info": {
   "codemirror_mode": {
    "name": "ipython",
    "version": 3
   },
   "file_extension": ".py",
   "mimetype": "text/x-python",
   "name": "python",
   "nbconvert_exporter": "python",
   "pygments_lexer": "ipython3",
   "version": "3.12.10"
  }
 },
 "nbformat": 4,
 "nbformat_minor": 5
}
